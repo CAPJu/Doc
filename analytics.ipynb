{
 "cells": [
  {
   "cell_type": "markdown",
   "metadata": {},
   "source": [
    "# Analytics - Product Quality"
   ]
  },
  {
   "cell_type": "markdown",
   "metadata": {},
   "source": [
    "#### Date: 2022/01\n",
    "\n",
    "#### SUMMARY:\n",
    "\n",
    "- This notebook represents the project quality analysis of the date exposed right above. "
   ]
  },
  {
   "cell_type": "markdown",
   "metadata": {},
   "source": [
    "### TEAM:\n",
    "\n",
    "##### Semester: 2022/01\n",
    "##### Professor: Hilmer Neri\n",
    "\n",
    "##### Members:\n",
    "\n",
    "- Arthur Paiva\n",
    "- Francisco Heronildo\n",
    "- José Aquiles\n",
    "- Maicon Lucas Mares\n",
    "- Nathalia Lorena"
   ]
  },
  {
   "cell_type": "markdown",
   "metadata": {},
   "source": [
    "### LIBRARIES"
   ]
  },
  {
   "cell_type": "code",
   "execution_count": 1,
   "metadata": {},
   "outputs": [],
   "source": [
    "# Deal with data\n",
    "import pandas as pd\n",
    "import json\n",
    "from glob import glob\n",
    "import os\n",
    "import re\n",
    "\n",
    "# Deal with visualization\n",
    "import matplotlib.pyplot as plt\n",
    "\n",
    "# Deal with time\n",
    "import datetime"
   ]
  },
  {
   "cell_type": "markdown",
   "metadata": {},
   "source": [
    "### GRAPH SETTINGS"
   ]
  },
  {
   "cell_type": "code",
   "execution_count": 2,
   "metadata": {
    "pycharm": {
     "name": "#%%\n"
    }
   },
   "outputs": [
    {
     "data": {
      "text/plain": [
       "<Figure size 2000x1000 with 0 Axes>"
      ]
     },
     "metadata": {},
     "output_type": "display_data"
    }
   ],
   "source": [
    "fig = plt.figure(figsize=(20, 10))"
   ]
  },
  {
   "cell_type": "markdown",
   "metadata": {},
   "source": [
    "### DATAFRAME SETTINGS"
   ]
  },
  {
   "cell_type": "code",
   "execution_count": 3,
   "metadata": {},
   "outputs": [],
   "source": [
    "pd.set_option(\"display.max_rows\", None, \"display.max_columns\", None)"
   ]
  },
  {
   "cell_type": "markdown",
   "metadata": {},
   "source": [
    "#### Replace your semester, project name, repository name, and the programming language extension"
   ]
  },
  {
   "cell_type": "code",
   "execution_count": 4,
   "metadata": {
    "pycharm": {
     "name": "#%%\n"
    }
   },
   "outputs": [],
   "source": [
    "language = [['fga-eps-mds-2022-1-Capju-User', 'js'],\n",
    "           ['fga-eps-mds-2022-1-Capju-Interface', 'js'],\n",
    "           ['fga-eps-mds-2022-1-Capju-Service', 'js']]\n",
    "\n",
    "repos_language = {}\n",
    "\n",
    "for item in language:\n",
    "    repos_language[f\"{item[0]}\"] = item[1]"
   ]
  },
  {
   "cell_type": "markdown",
   "metadata": {},
   "source": [
    "### SonarCloud"
   ]
  },
  {
   "cell_type": "markdown",
   "metadata": {},
   "source": [
    "##### Path to the folder with all your jsons"
   ]
  },
  {
   "cell_type": "code",
   "execution_count": 5,
   "metadata": {},
   "outputs": [],
   "source": [
    "jsons = glob('analytics-raw-data-old/2022-1-CAPJu/*.json') # add your path here"
   ]
  },
  {
   "cell_type": "code",
   "execution_count": 6,
   "metadata": {},
   "outputs": [],
   "source": [
    "def read_json(json_path):\n",
    "    \n",
    "    with open(json_path) as json_file:\n",
    "        json_obj = json.load(json_file)\n",
    "        \n",
    "    return json_obj\n",
    "\n",
    "def create_base_component_df(json_list):\n",
    "    \n",
    "    df = pd.DataFrame()\n",
    "\n",
    "    for i in json_list:\n",
    "\n",
    "        base_component = read_json(i)\n",
    "\n",
    "        base_component_data = base_component['baseComponent']['measures']\n",
    "\n",
    "        base_component_df = pd.DataFrame(base_component_data)\n",
    "\n",
    "        base_component_df['filename'] = os.path.basename(i)\n",
    "\n",
    "        df = df.append(base_component_df, ignore_index=True)\n",
    "        \n",
    "    # Replace the UnB semester with yours.\n",
    "    aux_df = df['filename'].str.split(r\"fga-eps-mds-2022.1-(.*?)-(.*?)-(.*?)-(.*?)-v(.*?).json\", expand=True)\n",
    "\n",
    "    df['repository'] = aux_df[2]\n",
    "\n",
    "    df['version'] = aux_df[5]\n",
    "\n",
    "    df = df.sort_values(by=['repository', 'version'])\n",
    "        \n",
    "    return df"
   ]
  },
  {
   "cell_type": "markdown",
   "metadata": {},
   "source": [
    "#### Create base component dataframe"
   ]
  },
  {
   "cell_type": "code",
   "execution_count": 7,
   "metadata": {},
   "outputs": [
    {
     "name": "stderr",
     "output_type": "stream",
     "text": [
      "/tmp/ipykernel_733835/1251919851.py:22: FutureWarning: The frame.append method is deprecated and will be removed from pandas in a future version. Use pandas.concat instead.\n",
      "  df = df.append(base_component_df, ignore_index=True)\n",
      "/tmp/ipykernel_733835/1251919851.py:22: FutureWarning: The frame.append method is deprecated and will be removed from pandas in a future version. Use pandas.concat instead.\n",
      "  df = df.append(base_component_df, ignore_index=True)\n",
      "/tmp/ipykernel_733835/1251919851.py:22: FutureWarning: The frame.append method is deprecated and will be removed from pandas in a future version. Use pandas.concat instead.\n",
      "  df = df.append(base_component_df, ignore_index=True)\n",
      "/tmp/ipykernel_733835/1251919851.py:22: FutureWarning: The frame.append method is deprecated and will be removed from pandas in a future version. Use pandas.concat instead.\n",
      "  df = df.append(base_component_df, ignore_index=True)\n",
      "/tmp/ipykernel_733835/1251919851.py:22: FutureWarning: The frame.append method is deprecated and will be removed from pandas in a future version. Use pandas.concat instead.\n",
      "  df = df.append(base_component_df, ignore_index=True)\n",
      "/tmp/ipykernel_733835/1251919851.py:22: FutureWarning: The frame.append method is deprecated and will be removed from pandas in a future version. Use pandas.concat instead.\n",
      "  df = df.append(base_component_df, ignore_index=True)\n",
      "/tmp/ipykernel_733835/1251919851.py:22: FutureWarning: The frame.append method is deprecated and will be removed from pandas in a future version. Use pandas.concat instead.\n",
      "  df = df.append(base_component_df, ignore_index=True)\n",
      "/tmp/ipykernel_733835/1251919851.py:22: FutureWarning: The frame.append method is deprecated and will be removed from pandas in a future version. Use pandas.concat instead.\n",
      "  df = df.append(base_component_df, ignore_index=True)\n",
      "/tmp/ipykernel_733835/1251919851.py:22: FutureWarning: The frame.append method is deprecated and will be removed from pandas in a future version. Use pandas.concat instead.\n",
      "  df = df.append(base_component_df, ignore_index=True)\n",
      "/tmp/ipykernel_733835/1251919851.py:22: FutureWarning: The frame.append method is deprecated and will be removed from pandas in a future version. Use pandas.concat instead.\n",
      "  df = df.append(base_component_df, ignore_index=True)\n",
      "/tmp/ipykernel_733835/1251919851.py:22: FutureWarning: The frame.append method is deprecated and will be removed from pandas in a future version. Use pandas.concat instead.\n",
      "  df = df.append(base_component_df, ignore_index=True)\n",
      "/tmp/ipykernel_733835/1251919851.py:22: FutureWarning: The frame.append method is deprecated and will be removed from pandas in a future version. Use pandas.concat instead.\n",
      "  df = df.append(base_component_df, ignore_index=True)\n",
      "/tmp/ipykernel_733835/1251919851.py:22: FutureWarning: The frame.append method is deprecated and will be removed from pandas in a future version. Use pandas.concat instead.\n",
      "  df = df.append(base_component_df, ignore_index=True)\n",
      "/tmp/ipykernel_733835/1251919851.py:22: FutureWarning: The frame.append method is deprecated and will be removed from pandas in a future version. Use pandas.concat instead.\n",
      "  df = df.append(base_component_df, ignore_index=True)\n",
      "/tmp/ipykernel_733835/1251919851.py:22: FutureWarning: The frame.append method is deprecated and will be removed from pandas in a future version. Use pandas.concat instead.\n",
      "  df = df.append(base_component_df, ignore_index=True)\n",
      "/tmp/ipykernel_733835/1251919851.py:22: FutureWarning: The frame.append method is deprecated and will be removed from pandas in a future version. Use pandas.concat instead.\n",
      "  df = df.append(base_component_df, ignore_index=True)\n",
      "/tmp/ipykernel_733835/1251919851.py:22: FutureWarning: The frame.append method is deprecated and will be removed from pandas in a future version. Use pandas.concat instead.\n",
      "  df = df.append(base_component_df, ignore_index=True)\n",
      "/tmp/ipykernel_733835/1251919851.py:22: FutureWarning: The frame.append method is deprecated and will be removed from pandas in a future version. Use pandas.concat instead.\n",
      "  df = df.append(base_component_df, ignore_index=True)\n",
      "/tmp/ipykernel_733835/1251919851.py:22: FutureWarning: The frame.append method is deprecated and will be removed from pandas in a future version. Use pandas.concat instead.\n",
      "  df = df.append(base_component_df, ignore_index=True)\n",
      "/tmp/ipykernel_733835/1251919851.py:22: FutureWarning: The frame.append method is deprecated and will be removed from pandas in a future version. Use pandas.concat instead.\n",
      "  df = df.append(base_component_df, ignore_index=True)\n",
      "/tmp/ipykernel_733835/1251919851.py:22: FutureWarning: The frame.append method is deprecated and will be removed from pandas in a future version. Use pandas.concat instead.\n",
      "  df = df.append(base_component_df, ignore_index=True)\n",
      "/tmp/ipykernel_733835/1251919851.py:22: FutureWarning: The frame.append method is deprecated and will be removed from pandas in a future version. Use pandas.concat instead.\n",
      "  df = df.append(base_component_df, ignore_index=True)\n",
      "/tmp/ipykernel_733835/1251919851.py:22: FutureWarning: The frame.append method is deprecated and will be removed from pandas in a future version. Use pandas.concat instead.\n",
      "  df = df.append(base_component_df, ignore_index=True)\n",
      "/tmp/ipykernel_733835/1251919851.py:22: FutureWarning: The frame.append method is deprecated and will be removed from pandas in a future version. Use pandas.concat instead.\n",
      "  df = df.append(base_component_df, ignore_index=True)\n",
      "/tmp/ipykernel_733835/1251919851.py:22: FutureWarning: The frame.append method is deprecated and will be removed from pandas in a future version. Use pandas.concat instead.\n",
      "  df = df.append(base_component_df, ignore_index=True)\n",
      "/tmp/ipykernel_733835/1251919851.py:22: FutureWarning: The frame.append method is deprecated and will be removed from pandas in a future version. Use pandas.concat instead.\n",
      "  df = df.append(base_component_df, ignore_index=True)\n",
      "/tmp/ipykernel_733835/1251919851.py:22: FutureWarning: The frame.append method is deprecated and will be removed from pandas in a future version. Use pandas.concat instead.\n",
      "  df = df.append(base_component_df, ignore_index=True)\n"
     ]
    }
   ],
   "source": [
    "base_component_df = create_base_component_df(jsons)"
   ]
  },
  {
   "cell_type": "code",
   "execution_count": 8,
   "metadata": {},
   "outputs": [
    {
     "data": {
      "text/html": [
       "<div>\n",
       "<style scoped>\n",
       "    .dataframe tbody tr th:only-of-type {\n",
       "        vertical-align: middle;\n",
       "    }\n",
       "\n",
       "    .dataframe tbody tr th {\n",
       "        vertical-align: top;\n",
       "    }\n",
       "\n",
       "    .dataframe thead th {\n",
       "        text-align: right;\n",
       "    }\n",
       "</style>\n",
       "<table border=\"1\" class=\"dataframe\">\n",
       "  <thead>\n",
       "    <tr style=\"text-align: right;\">\n",
       "      <th></th>\n",
       "      <th>metric</th>\n",
       "      <th>value</th>\n",
       "      <th>bestValue</th>\n",
       "      <th>filename</th>\n",
       "      <th>repository</th>\n",
       "      <th>version</th>\n",
       "    </tr>\n",
       "  </thead>\n",
       "  <tbody>\n",
       "    <tr>\n",
       "      <th>0</th>\n",
       "      <td>duplicated_lines_density</td>\n",
       "      <td>0.0</td>\n",
       "      <td>True</td>\n",
       "      <td>fga-eps-mds-2022-1-Capju-Interface-07-31-2022-...</td>\n",
       "      <td>Interface</td>\n",
       "      <td>0.1.0</td>\n",
       "    </tr>\n",
       "    <tr>\n",
       "      <th>1</th>\n",
       "      <td>functions</td>\n",
       "      <td>82</td>\n",
       "      <td>NaN</td>\n",
       "      <td>fga-eps-mds-2022-1-Capju-Interface-07-31-2022-...</td>\n",
       "      <td>Interface</td>\n",
       "      <td>0.1.0</td>\n",
       "    </tr>\n",
       "    <tr>\n",
       "      <th>2</th>\n",
       "      <td>security_rating</td>\n",
       "      <td>1.0</td>\n",
       "      <td>True</td>\n",
       "      <td>fga-eps-mds-2022-1-Capju-Interface-07-31-2022-...</td>\n",
       "      <td>Interface</td>\n",
       "      <td>0.1.0</td>\n",
       "    </tr>\n",
       "    <tr>\n",
       "      <th>3</th>\n",
       "      <td>files</td>\n",
       "      <td>28</td>\n",
       "      <td>NaN</td>\n",
       "      <td>fga-eps-mds-2022-1-Capju-Interface-07-31-2022-...</td>\n",
       "      <td>Interface</td>\n",
       "      <td>0.1.0</td>\n",
       "    </tr>\n",
       "    <tr>\n",
       "      <th>4</th>\n",
       "      <td>complexity</td>\n",
       "      <td>97</td>\n",
       "      <td>NaN</td>\n",
       "      <td>fga-eps-mds-2022-1-Capju-Interface-07-31-2022-...</td>\n",
       "      <td>Interface</td>\n",
       "      <td>0.1.0</td>\n",
       "    </tr>\n",
       "    <tr>\n",
       "      <th>5</th>\n",
       "      <td>ncloc</td>\n",
       "      <td>1361</td>\n",
       "      <td>NaN</td>\n",
       "      <td>fga-eps-mds-2022-1-Capju-Interface-07-31-2022-...</td>\n",
       "      <td>Interface</td>\n",
       "      <td>0.1.0</td>\n",
       "    </tr>\n",
       "    <tr>\n",
       "      <th>6</th>\n",
       "      <td>coverage</td>\n",
       "      <td>0.0</td>\n",
       "      <td>False</td>\n",
       "      <td>fga-eps-mds-2022-1-Capju-Interface-07-31-2022-...</td>\n",
       "      <td>Interface</td>\n",
       "      <td>0.1.0</td>\n",
       "    </tr>\n",
       "    <tr>\n",
       "      <th>7</th>\n",
       "      <td>comment_lines_density</td>\n",
       "      <td>0.1</td>\n",
       "      <td>False</td>\n",
       "      <td>fga-eps-mds-2022-1-Capju-Interface-07-31-2022-...</td>\n",
       "      <td>Interface</td>\n",
       "      <td>0.1.0</td>\n",
       "    </tr>\n",
       "    <tr>\n",
       "      <th>8</th>\n",
       "      <td>duplicated_lines_density</td>\n",
       "      <td>0.0</td>\n",
       "      <td>True</td>\n",
       "      <td>fga-eps-mds-2022-1-Capju-Interface-08-17-2022-...</td>\n",
       "      <td>Interface</td>\n",
       "      <td>0.2.0</td>\n",
       "    </tr>\n",
       "    <tr>\n",
       "      <th>9</th>\n",
       "      <td>functions</td>\n",
       "      <td>109</td>\n",
       "      <td>NaN</td>\n",
       "      <td>fga-eps-mds-2022-1-Capju-Interface-08-17-2022-...</td>\n",
       "      <td>Interface</td>\n",
       "      <td>0.2.0</td>\n",
       "    </tr>\n",
       "  </tbody>\n",
       "</table>\n",
       "</div>"
      ],
      "text/plain": [
       "                     metric value bestValue  \\\n",
       "0  duplicated_lines_density   0.0      True   \n",
       "1                 functions    82       NaN   \n",
       "2           security_rating   1.0      True   \n",
       "3                     files    28       NaN   \n",
       "4                complexity    97       NaN   \n",
       "5                     ncloc  1361       NaN   \n",
       "6                  coverage   0.0     False   \n",
       "7     comment_lines_density   0.1     False   \n",
       "8  duplicated_lines_density   0.0      True   \n",
       "9                 functions   109       NaN   \n",
       "\n",
       "                                            filename repository version  \n",
       "0  fga-eps-mds-2022-1-Capju-Interface-07-31-2022-...  Interface   0.1.0  \n",
       "1  fga-eps-mds-2022-1-Capju-Interface-07-31-2022-...  Interface   0.1.0  \n",
       "2  fga-eps-mds-2022-1-Capju-Interface-07-31-2022-...  Interface   0.1.0  \n",
       "3  fga-eps-mds-2022-1-Capju-Interface-07-31-2022-...  Interface   0.1.0  \n",
       "4  fga-eps-mds-2022-1-Capju-Interface-07-31-2022-...  Interface   0.1.0  \n",
       "5  fga-eps-mds-2022-1-Capju-Interface-07-31-2022-...  Interface   0.1.0  \n",
       "6  fga-eps-mds-2022-1-Capju-Interface-07-31-2022-...  Interface   0.1.0  \n",
       "7  fga-eps-mds-2022-1-Capju-Interface-07-31-2022-...  Interface   0.1.0  \n",
       "8  fga-eps-mds-2022-1-Capju-Interface-08-17-2022-...  Interface   0.2.0  \n",
       "9  fga-eps-mds-2022-1-Capju-Interface-08-17-2022-...  Interface   0.2.0  "
      ]
     },
     "execution_count": 8,
     "metadata": {},
     "output_type": "execute_result"
    }
   ],
   "source": [
    "base_component_df.head(10)"
   ]
  },
  {
   "cell_type": "markdown",
   "metadata": {},
   "source": [
    "#### Create dataframe per file"
   ]
  },
  {
   "cell_type": "code",
   "execution_count": 9,
   "metadata": {},
   "outputs": [
    {
     "data": {
      "text/plain": [
       "12"
      ]
     },
     "execution_count": 9,
     "metadata": {},
     "output_type": "execute_result"
    }
   ],
   "source": [
    "metric_list = ['files',\n",
    "               'functions',\n",
    "               'complexity',\n",
    "               'comment_lines_density',\n",
    "               'duplicated_lines_density',\n",
    "               'coverage',\n",
    "               'ncloc',\n",
    "               'tests',\n",
    "               'test_errors',\n",
    "               'test_failures',\n",
    "               'test_execution_time',\n",
    "               'security_rating']\n",
    "\n",
    "len(metric_list)"
   ]
  },
  {
   "cell_type": "code",
   "execution_count": 10,
   "metadata": {
    "pycharm": {
     "name": "#%%\n"
    }
   },
   "outputs": [],
   "source": [
    "def get_files_df(df):\n",
    "    \n",
    "    files = df[df['qualifier'] == 'FIL'] \n",
    "    \n",
    "    files = files.dropna(subset=['functions', 'complexity','comment_lines_density', 'duplicated_lines_density', 'coverage' ])\n",
    "    \n",
    "    return files"
   ]
  },
  {
   "cell_type": "code",
   "execution_count": 11,
   "metadata": {
    "pycharm": {
     "name": "#%%\n"
    }
   },
   "outputs": [],
   "source": [
    "def get_dir_df(df):\n",
    "    dirs = df[df[\"qualifier\"] == \"DIR\"]     \n",
    "    \n",
    "    newdf = pd.to_numeric(dirs[\"tests\"])\n",
    "    \n",
    "    max_value_index = newdf.idxmax()            \n",
    "    return dirs.loc[max_value_index]"
   ]
  },
  {
   "cell_type": "code",
   "execution_count": 12,
   "metadata": {},
   "outputs": [],
   "source": [
    "def get_uts_df(df):\n",
    "    dirs = df[df['qualifier'] == 'UTS']     \n",
    "\n",
    "    dirs = dirs.dropna(subset=['test_execution_time'])          \n",
    "    \n",
    "    return dirs"
   ]
  },
  {
   "cell_type": "code",
   "execution_count": 13,
   "metadata": {},
   "outputs": [],
   "source": [
    "def metric_per_file(json):\n",
    "    \n",
    "    file_json = []\n",
    "    \n",
    "    for component in json['components']:\n",
    "        \n",
    "        ncloc_value = 0;\n",
    "        \n",
    "        for valores in component['measures']:\n",
    "\n",
    "            if valores['metric'] == 'ncloc':\n",
    "                ncloc_value = float(valores['value'])\n",
    "                break\n",
    "    \n",
    "        if (component['qualifier'] == 'FIL') & (ncloc_value > 0) or (component['qualifier'] == 'DIR') or (component['qualifier'] == 'UTS'):                       \n",
    "            file_json.append(component)\n",
    "\n",
    "    return file_json\n",
    "\n",
    "def generate_file_dataframe_per_release(metric_list, json, language_extension):\n",
    "    \n",
    "    df_columns = metric_list\n",
    "    df = pd.DataFrame(columns = df_columns)\n",
    "    df2 = pd.DataFrame(columns = df_columns)\n",
    "    df3 = pd.DataFrame(columns = df_columns)\n",
    "    \n",
    "    \n",
    "    for file in json:\n",
    "        try:\n",
    "                if file['qualifier'] == 'FIL' and file['language'] == language_extension:\n",
    "                    for measure in file['measures']:\n",
    "                        df.at[file['path'], measure['metric']] = measure['value']\n",
    "\n",
    "                    df['qualifier'] = file['qualifier'] \n",
    "\n",
    "                elif file['qualifier'] == 'UTS':  \n",
    "                    for measure in file['measures']:\n",
    "                        df3.at[file['path'], measure['metric']] = measure['value']\n",
    "\n",
    "                    df3['qualifier'] = file['qualifier'] \n",
    "                elif file['qualifier'] == 'DIR':\n",
    "                    for measure in file['measures']:\n",
    "                        df2.at[file['path'], measure['metric']] = measure['value']\n",
    "                    df2['qualifier'] = file['qualifier'] \n",
    "        except:\n",
    "            pass\n",
    "\n",
    "    df.reset_index(inplace = True)\n",
    "    df2.reset_index(inplace = True)\n",
    "    df3.reset_index(inplace = True)\n",
    "    df = df.rename({'index': 'path'}, axis=1).drop(['files'], axis=1)\n",
    "    df2 = df2.rename({'index': 'path'}, axis=1).drop(['files'], axis=1)\n",
    "    df3 = df3.rename({'index': 'path'}, axis=1).drop(['files'], axis=1)\n",
    "\n",
    "    dfFinal = pd.concat([df,df2,df3], axis=0)\n",
    "\n",
    "    return dfFinal\n",
    "\n",
    "def create_file_df(json_list):\n",
    "    \n",
    "    df = pd.DataFrame()\n",
    "    dfDir = pd.DataFrame()\n",
    "\n",
    "    for i in json_list:\n",
    "\n",
    "        file_component = read_json(i)\n",
    "        \n",
    "        file_component_data = metric_per_file(file_component)\n",
    "                        \n",
    "        file_name = os.path.basename(i)\n",
    "\n",
    "        file_repository = re.split(r'-(\\d+-\\d+-\\d+-\\d+-\\d+-\\d+)-v(.*?).json', file_name)[0]\n",
    "\n",
    "        file_language = repos_language[f\"{file_repository}\"]\n",
    "\n",
    "        file_component_df = generate_file_dataframe_per_release(metric_list, file_component_data, language_extension = file_language)\n",
    "        \n",
    "        file_component_df['filename'] = os.path.basename(i)\n",
    "\n",
    "        df = df.append(file_component_df, ignore_index=True)\n",
    "        \n",
    "    # Replace the UnB semester with yours.\n",
    "    \n",
    "    aux_df = df['filename'].str.split(r\"-(\\d+-\\d+-\\d+-\\d+-\\d+-\\d+)-v(.*?).json\", expand=True)\n",
    "\n",
    "    df['repository'] = aux_df[0]\n",
    "\n",
    "    df['version'] = aux_df[2]\n",
    "\n",
    "    df = df.sort_values(by=['version'])\n",
    "    \n",
    "    return df"
   ]
  },
  {
   "cell_type": "code",
   "execution_count": 14,
   "metadata": {},
   "outputs": [
    {
     "name": "stderr",
     "output_type": "stream",
     "text": [
      "/tmp/ipykernel_733835/3038128456.py:80: FutureWarning: The frame.append method is deprecated and will be removed from pandas in a future version. Use pandas.concat instead.\n",
      "  df = df.append(file_component_df, ignore_index=True)\n",
      "/tmp/ipykernel_733835/3038128456.py:80: FutureWarning: The frame.append method is deprecated and will be removed from pandas in a future version. Use pandas.concat instead.\n",
      "  df = df.append(file_component_df, ignore_index=True)\n",
      "/tmp/ipykernel_733835/3038128456.py:80: FutureWarning: The frame.append method is deprecated and will be removed from pandas in a future version. Use pandas.concat instead.\n",
      "  df = df.append(file_component_df, ignore_index=True)\n",
      "/tmp/ipykernel_733835/3038128456.py:80: FutureWarning: The frame.append method is deprecated and will be removed from pandas in a future version. Use pandas.concat instead.\n",
      "  df = df.append(file_component_df, ignore_index=True)\n",
      "/tmp/ipykernel_733835/3038128456.py:80: FutureWarning: The frame.append method is deprecated and will be removed from pandas in a future version. Use pandas.concat instead.\n",
      "  df = df.append(file_component_df, ignore_index=True)\n",
      "/tmp/ipykernel_733835/3038128456.py:80: FutureWarning: The frame.append method is deprecated and will be removed from pandas in a future version. Use pandas.concat instead.\n",
      "  df = df.append(file_component_df, ignore_index=True)\n",
      "/tmp/ipykernel_733835/3038128456.py:80: FutureWarning: The frame.append method is deprecated and will be removed from pandas in a future version. Use pandas.concat instead.\n",
      "  df = df.append(file_component_df, ignore_index=True)\n",
      "/tmp/ipykernel_733835/3038128456.py:80: FutureWarning: The frame.append method is deprecated and will be removed from pandas in a future version. Use pandas.concat instead.\n",
      "  df = df.append(file_component_df, ignore_index=True)\n",
      "/tmp/ipykernel_733835/3038128456.py:80: FutureWarning: The frame.append method is deprecated and will be removed from pandas in a future version. Use pandas.concat instead.\n",
      "  df = df.append(file_component_df, ignore_index=True)\n",
      "/tmp/ipykernel_733835/3038128456.py:80: FutureWarning: The frame.append method is deprecated and will be removed from pandas in a future version. Use pandas.concat instead.\n",
      "  df = df.append(file_component_df, ignore_index=True)\n",
      "/tmp/ipykernel_733835/3038128456.py:80: FutureWarning: The frame.append method is deprecated and will be removed from pandas in a future version. Use pandas.concat instead.\n",
      "  df = df.append(file_component_df, ignore_index=True)\n",
      "/tmp/ipykernel_733835/3038128456.py:80: FutureWarning: The frame.append method is deprecated and will be removed from pandas in a future version. Use pandas.concat instead.\n",
      "  df = df.append(file_component_df, ignore_index=True)\n",
      "/tmp/ipykernel_733835/3038128456.py:80: FutureWarning: The frame.append method is deprecated and will be removed from pandas in a future version. Use pandas.concat instead.\n",
      "  df = df.append(file_component_df, ignore_index=True)\n",
      "/tmp/ipykernel_733835/3038128456.py:80: FutureWarning: The frame.append method is deprecated and will be removed from pandas in a future version. Use pandas.concat instead.\n",
      "  df = df.append(file_component_df, ignore_index=True)\n",
      "/tmp/ipykernel_733835/3038128456.py:80: FutureWarning: The frame.append method is deprecated and will be removed from pandas in a future version. Use pandas.concat instead.\n",
      "  df = df.append(file_component_df, ignore_index=True)\n",
      "/tmp/ipykernel_733835/3038128456.py:80: FutureWarning: The frame.append method is deprecated and will be removed from pandas in a future version. Use pandas.concat instead.\n",
      "  df = df.append(file_component_df, ignore_index=True)\n",
      "/tmp/ipykernel_733835/3038128456.py:80: FutureWarning: The frame.append method is deprecated and will be removed from pandas in a future version. Use pandas.concat instead.\n",
      "  df = df.append(file_component_df, ignore_index=True)\n",
      "/tmp/ipykernel_733835/3038128456.py:80: FutureWarning: The frame.append method is deprecated and will be removed from pandas in a future version. Use pandas.concat instead.\n",
      "  df = df.append(file_component_df, ignore_index=True)\n",
      "/tmp/ipykernel_733835/3038128456.py:80: FutureWarning: The frame.append method is deprecated and will be removed from pandas in a future version. Use pandas.concat instead.\n",
      "  df = df.append(file_component_df, ignore_index=True)\n",
      "/tmp/ipykernel_733835/3038128456.py:80: FutureWarning: The frame.append method is deprecated and will be removed from pandas in a future version. Use pandas.concat instead.\n",
      "  df = df.append(file_component_df, ignore_index=True)\n",
      "/tmp/ipykernel_733835/3038128456.py:80: FutureWarning: The frame.append method is deprecated and will be removed from pandas in a future version. Use pandas.concat instead.\n",
      "  df = df.append(file_component_df, ignore_index=True)\n",
      "/tmp/ipykernel_733835/3038128456.py:80: FutureWarning: The frame.append method is deprecated and will be removed from pandas in a future version. Use pandas.concat instead.\n",
      "  df = df.append(file_component_df, ignore_index=True)\n",
      "/tmp/ipykernel_733835/3038128456.py:80: FutureWarning: The frame.append method is deprecated and will be removed from pandas in a future version. Use pandas.concat instead.\n",
      "  df = df.append(file_component_df, ignore_index=True)\n",
      "/tmp/ipykernel_733835/3038128456.py:80: FutureWarning: The frame.append method is deprecated and will be removed from pandas in a future version. Use pandas.concat instead.\n",
      "  df = df.append(file_component_df, ignore_index=True)\n",
      "/tmp/ipykernel_733835/3038128456.py:80: FutureWarning: The frame.append method is deprecated and will be removed from pandas in a future version. Use pandas.concat instead.\n",
      "  df = df.append(file_component_df, ignore_index=True)\n",
      "/tmp/ipykernel_733835/3038128456.py:80: FutureWarning: The frame.append method is deprecated and will be removed from pandas in a future version. Use pandas.concat instead.\n",
      "  df = df.append(file_component_df, ignore_index=True)\n",
      "/tmp/ipykernel_733835/3038128456.py:80: FutureWarning: The frame.append method is deprecated and will be removed from pandas in a future version. Use pandas.concat instead.\n",
      "  df = df.append(file_component_df, ignore_index=True)\n"
     ]
    },
    {
     "data": {
      "text/plain": [
       "array(['fga-eps-mds-2022-1-Capju-Interface',\n",
       "       'fga-eps-mds-2022-1-Capju-Service',\n",
       "       'fga-eps-mds-2022-1-Capju-User'], dtype=object)"
      ]
     },
     "execution_count": 14,
     "metadata": {},
     "output_type": "execute_result"
    }
   ],
   "source": [
    "file_component_df = create_file_df(jsons)\n",
    "file_component_df.repository.unique()"
   ]
  },
  {
   "cell_type": "markdown",
   "metadata": {},
   "source": [
    "#### Removing NaN"
   ]
  },
  {
   "cell_type": "code",
   "execution_count": 15,
   "metadata": {
    "pycharm": {
     "name": "#%%\n"
    }
   },
   "outputs": [],
   "source": [
    " file_component_df = file_component_df.dropna(subset=['functions', 'complexity','comment_lines_density', 'duplicated_lines_density', 'coverage' ])"
   ]
  },
  {
   "cell_type": "markdown",
   "metadata": {},
   "source": [
    "        #### Create dataframe per repository"
   ]
  },
  {
   "cell_type": "code",
   "execution_count": 16,
   "metadata": {},
   "outputs": [],
   "source": [
    "# Example. You must replace repo1, repo1,..., for your repository's names\n",
    "\n",
    "repo1_df = file_component_df[file_component_df['repository'] == 'fga-eps-mds-2022-1-Capju-Service']\n",
    "repo2_df = file_component_df[file_component_df['repository'] == 'fga-eps-mds-2022-1-Capju-Interface']\n",
    "repo3_df = file_component_df[file_component_df['repository'] == 'fga-eps-mds-2022-1-Capju-User']"
   ]
  },
  {
   "cell_type": "code",
   "execution_count": 17,
   "metadata": {
    "pycharm": {
     "name": "#%%\n"
    }
   },
   "outputs": [],
   "source": [
    "def _ncloc(df):\n",
    "    ncloc = 0\n",
    "    for each in df['ncloc']:\n",
    "        n = 0\n",
    "        # try to cast the current ncloc value to int, if the value is NaN/Null, consider it as zero.\n",
    "        try:\n",
    "            n = int(each)\n",
    "        except ValueError:\n",
    "            n = 0\n",
    "        ncloc += n\n",
    "\n",
    "    return ncloc"
   ]
  },
  {
   "cell_type": "markdown",
   "metadata": {},
   "source": [
    "### Measure calculations according Q-Rapids quality model"
   ]
  },
  {
   "cell_type": "markdown",
   "metadata": {},
   "source": [
    "# Quality Aspect - Maintainability\n",
    "## Factor - Code Quality"
   ]
  },
  {
   "cell_type": "markdown",
   "metadata": {},
   "source": [
    "##### COMPLEXITY"
   ]
  },
  {
   "cell_type": "code",
   "execution_count": 18,
   "metadata": {},
   "outputs": [],
   "source": [
    "def m1(df):\n",
    "\n",
    "    files_df = get_files_df(df)\n",
    "    \n",
    "    density_non_complex_files = len(files_df[(files_df['complexity'].astype(float) /\n",
    "                                              files_df['functions'].astype(float)) < 10]) / len(files_df)\n",
    "    \n",
    "    return density_non_complex_files"
   ]
  },
  {
   "cell_type": "markdown",
   "metadata": {},
   "source": [
    "##### COMMENTS"
   ]
  },
  {
   "cell_type": "code",
   "execution_count": 19,
   "metadata": {},
   "outputs": [],
   "source": [
    "def m2(df):\n",
    "\n",
    "    files_df = get_files_df(df)\n",
    "    \n",
    "    density_comment_files = len(files_df[(files_df['comment_lines_density'].astype(float) > 10) &\n",
    "                                         (files_df['comment_lines_density'].astype(float) < 30)]) / len(files_df)\n",
    "    \n",
    "    return density_comment_files"
   ]
  },
  {
   "cell_type": "markdown",
   "metadata": {},
   "source": [
    "##### DUPLICATIONS"
   ]
  },
  {
   "cell_type": "code",
   "execution_count": 20,
   "metadata": {},
   "outputs": [],
   "source": [
    "def m3(df):\n",
    "\n",
    "    files_df = get_files_df(df)\n",
    "    \n",
    "    duplication = len(files_df[(files_df['duplicated_lines_density'].astype(float) < 5)])/len(files_df)\n",
    "    \n",
    "    return duplication"
   ]
  },
  {
   "cell_type": "markdown",
   "metadata": {},
   "source": [
    "# Quality Aspect - Reliability\n",
    "## Factor - Testing Status"
   ]
  },
  {
   "cell_type": "markdown",
   "metadata": {},
   "source": [
    "##### Passed tests"
   ]
  },
  {
   "cell_type": "code",
   "execution_count": 21,
   "metadata": {
    "pycharm": {
     "name": "#%%\n"
    }
   },
   "outputs": [],
   "source": [
    "def m4(df):\n",
    "    try:\n",
    "        dir_df = get_dir_df(df)\n",
    "\n",
    "        passed_tests = (float(dir_df['tests']) - (float(dir_df['test_errors']) + float(dir_df['test_failures']))) /\\\n",
    "                   float(dir_df['tests'])\n",
    "\n",
    "        return passed_tests\n",
    "    except:\n",
    "        return 0"
   ]
  },
  {
   "cell_type": "markdown",
   "metadata": {},
   "source": [
    "##### Fast test builds"
   ]
  },
  {
   "cell_type": "code",
   "execution_count": 22,
   "metadata": {
    "pycharm": {
     "name": "#%%\n"
    }
   },
   "outputs": [],
   "source": [
    "def m5(df):\n",
    "    \n",
    "    try:\n",
    "        dir_df = get_uts_df(df)\n",
    "    \n",
    "        density_fast_test_builds = len(dir_df[(dir_df['test_execution_time'].astype(float)) < 300000]) /\\\n",
    "                               len(dir_df['test_execution_time'].astype(float))\n",
    "        return density_fast_test_builds\n",
    "    except:\n",
    "        return 0"
   ]
  },
  {
   "cell_type": "markdown",
   "metadata": {},
   "source": [
    "##### Test coverage"
   ]
  },
  {
   "cell_type": "code",
   "execution_count": 23,
   "metadata": {
    "pycharm": {
     "name": "#%%\n"
    }
   },
   "outputs": [],
   "source": [
    "def m6(df):\n",
    "\n",
    "    files_df = get_files_df(df)\n",
    "\n",
    "    density_test_coverage = len(files_df[(files_df['coverage'].astype(float) > 60)]) / len(files_df)\n",
    "\n",
    "    return density_test_coverage"
   ]
  },
  {
   "cell_type": "markdown",
   "metadata": {},
   "source": [
    "### Calculate m1, m2, m3, m4, m5 and m6 for each repository"
   ]
  },
  {
   "cell_type": "code",
   "execution_count": 24,
   "metadata": {},
   "outputs": [],
   "source": [
    "def create_metrics_df(df):\n",
    "    \n",
    "    version_vec = df['version'].unique()\n",
    "    \n",
    "    m1_list = []\n",
    "    m2_list = []\n",
    "    m3_list = []\n",
    "    m4_list = []\n",
    "    m5_list = []\n",
    "    m6_list = []\n",
    "\n",
    "    ncloc_list = []\n",
    "    repository_list = []\n",
    "    version_list = []\n",
    "    \n",
    "    for version in version_vec:\n",
    "\n",
    "        version_df = df[df['version'] == version]\n",
    "\n",
    "        m1_list.append(m1(version_df))\n",
    "        m2_list.append(m2(version_df))\n",
    "        m3_list.append(m3(version_df))\n",
    "        m4_list.append(m4(version_df))\n",
    "        m5_list.append(m5(version_df))\n",
    "        m6_list.append(m6(version_df))\n",
    "\n",
    "        ncloc_list.append(_ncloc(version_df))\n",
    "        repository_list.append(version_df['repository'].iloc[0])\n",
    "        version_list.append(version)\n",
    "        \n",
    "    metrics_df = pd.DataFrame({'m1': m1_list,\n",
    "                               'm2': m2_list,\n",
    "                               'm3': m3_list,\n",
    "                               'm4': m4_list,\n",
    "                               'm5': m5_list,\n",
    "                               'm6': m6_list,\n",
    "                               'repository': repository_list, \n",
    "                               'version': version_list,\n",
    "                               'ncloc': ncloc_list})\n",
    "        \n",
    "    \n",
    "    metrics_df = pd.DataFrame({'m1': m1_list,\n",
    "                               'm2': m2_list,\n",
    "                               'm3': m3_list,\n",
    "                               'm6': m6_list,\n",
    "                               'repository': repository_list, \n",
    "                               'version': version_list,\n",
    "                               'ncloc': ncloc_list})\n",
    "    \n",
    "    return metrics_df"
   ]
  },
  {
   "cell_type": "code",
   "execution_count": 25,
   "metadata": {},
   "outputs": [],
   "source": [
    "repo1 = create_metrics_df(repo1_df)\n",
    "repo2 = create_metrics_df(repo2_df)\n",
    "repo3 = create_metrics_df(repo3_df)"
   ]
  },
  {
   "cell_type": "markdown",
   "metadata": {},
   "source": [
    "### Data visualization\n",
    "\n",
    "- You must do this for each of your repositories"
   ]
  },
  {
   "cell_type": "code",
   "execution_count": 26,
   "metadata": {},
   "outputs": [
    {
     "data": {
      "text/plain": [
       "<matplotlib.legend.Legend at 0x7f868da30280>"
      ]
     },
     "execution_count": 26,
     "metadata": {},
     "output_type": "execute_result"
    },
    {
     "data": {
      "image/png": "[encoded data removed]",
      "text/plain": [
       "<Figure size 2000x1000 with 1 Axes>"
      ]
     },
     "metadata": {},
     "output_type": "display_data"
    }
   ],
   "source": [
    "fig = plt.figure(figsize=(20, 10))\n",
    "\n",
    "plt.grid(True)\n",
    "\n",
    "plt.title('Metrics repo1')\n",
    "plt.plot(repo1['m1'], linewidth=3, marker='o', markersize=10, label=\"m1 - Complexity\")\n",
    "plt.plot(repo1['m2'], linewidth=3, marker='o', markersize=10, label=\"m2 - Comments\")\n",
    "plt.plot(repo1['m3'], linewidth=3, marker='o', markersize=10, label=\"m3 - Duplication\")\n",
    "# plt.plot(repo1['m4'], linewidth=3, marker='o', markersize=10, label=\"m4 - rwliability\")\n",
    "# plt.plot(repo1['m5'], linewidth=3, marker='o', markersize=10)\n",
    "\n",
    "plt.plot(repo1['m6'], linewidth=3, marker='o', markersize=10, label=\"m6 - Test Coverage\")\n",
    "\n",
    "plt.legend(loc='best')"
   ]
  },
  {
   "cell_type": "code",
   "execution_count": 28,
   "metadata": {
    "pycharm": {
     "name": "#%%\n"
    }
   },
   "outputs": [
    {
     "data": {
      "text/plain": [
       "<matplotlib.legend.Legend at 0x7f868dcd2c20>"
      ]
     },
     "execution_count": 28,
     "metadata": {},
     "output_type": "execute_result"
    },
    {
     "data": {
      "image/png": "[encoded data removed]",
      "text/plain": [
       "<Figure size 2000x1000 with 1 Axes>"
      ]
     },
     "metadata": {},
     "output_type": "display_data"
    }
   ],
   "source": [
    "fig = plt.figure(figsize=(20, 10))\n",
    "\n",
    "plt.grid(True)\n",
    "\n",
    "plt.title('Metrics repo2')\n",
    "plt.plot(repo2['m1'], linewidth=3, marker='o', markersize=10, label=\"m1 - Complexity\")\n",
    "plt.plot(repo2['m2'], linewidth=3, marker='o', markersize=10, label=\"m2 - Comments\")\n",
    "plt.plot(repo2['m3'], linewidth=3, marker='o', markersize=10, label=\"m3 - Duplication\")\n",
    "# plt.plot(repo2['m4'], linewidth=3, marker='o', markersize=10)\n",
    "# plt.plot(repo2['m5'], linewidth=3, marker='o', markersize=10)\n",
    "\n",
    "plt.plot(repo2['m6'], linewidth=3, marker='o', markersize=10, label=\"m6 - Test Coverage\")\n",
    "\n",
    "plt.legend(loc='best')"
   ]
  },
  {
   "cell_type": "code",
   "execution_count": 29,
   "metadata": {},
   "outputs": [
    {
     "data": {
      "text/plain": [
       "<matplotlib.legend.Legend at 0x7f86807d8730>"
      ]
     },
     "execution_count": 29,
     "metadata": {},
     "output_type": "execute_result"
    },
    {
     "data": {
      "image/png": "[encoded data removed]",
      "text/plain": [
       "<Figure size 2000x1000 with 1 Axes>"
      ]
     },
     "metadata": {},
     "output_type": "display_data"
    }
   ],
   "source": [
    "fig = plt.figure(figsize=(20, 10))\n",
    "\n",
    "plt.grid(True)\n",
    "\n",
    "plt.title('Metrics repo3')\n",
    "plt.plot(repo3['m1'], linewidth=3, marker='o', markersize=10, label=\"m1 - Complexity\")\n",
    "plt.plot(repo3['m2'], linewidth=3, marker='o', markersize=10, label=\"m2 - Comments\")\n",
    "plt.plot(repo3['m3'], linewidth=3, marker='o', markersize=10, label=\"m3 - Duplication\")\n",
    "# plt.plot(repo3['m4'], linewidth=3, marker='o', markersize=10)\n",
    "# plt.plot(repo3['m5'], linewidth=3, marker='o', markersize=10)\n",
    "\n",
    "plt.plot(repo3['m6'], linewidth=3, marker='o', markersize=10, label=\"m6 - Test Coverage\")\n",
    "\n",
    "plt.legend(loc='best')"
   ]
  },
  {
   "cell_type": "markdown",
   "metadata": {},
   "source": [
    "### Quality factor and aspect aggregation\n",
    "\n",
    "- You must do this for each of your repositories"
   ]
  },
  {
   "cell_type": "code",
   "execution_count": null,
   "metadata": {},
   "outputs": [],
   "source": [
    "psc1 = 1\n",
    "psc2 = 1\n",
    "pc1 = 0.5\n",
    "pc2 = 0.5\n",
    "pm1 = 0.33\n",
    "pm2 = 0.33\n",
    "pm3 = 0.33\n",
    "pm4 = 0.25\n",
    "pm5 = 0.25\n",
    "pm6 = 0.5\n",
    "\n",
    "repo1['code_quality'] = ((repo1['m1']*pm1) + (repo1['m2']*pm2) + (repo1['m3']*pm3)) * psc1\n",
    "repo2['code_quality'] = ((repo2['m1']*pm1) + (repo2['m2']*pm2) + (repo2['m3']*pm3)) * psc1\n",
    "repo3['code_quality'] = ((repo3['m1']*pm1) + (repo3['m2']*pm2) + (repo3['m3']*pm3)) * psc1\n",
    "\n",
    "repo1['testing_status'] = (repo1['m6']*pm6) * psc2\n",
    "repo2['testing_status'] = (repo1['m6']*pm6) * psc2\n",
    "repo3['testing_status'] = (repo1['m6']*pm6) * psc2\n",
    "repo1['testing_status'] = ((repo1['m4']*pm4) + (repo1['m5']*pm5) + (repo1['m6']*pm6)) * psc2\n",
    "repo2['testing_status'] = ((repo2['m4']*pm4) + (repo2['m5']*pm5) + (repo2['m6']*pm6)) * psc2\n",
    "repo3['testing_status'] = ((repo3['m4']*pm4) + (repo3['m5']*pm5) + (repo3['m6']*pm6)) * psc2\n"
   ]
  },
  {
   "cell_type": "code",
   "execution_count": null,
   "metadata": {},
   "outputs": [],
   "source": [
    "fig = plt.figure(figsize=(20, 10))\n",
    "\n",
    "plt.grid(True)\n",
    "\n",
    "plt.plot(repo1['code_quality'], linewidth=3, marker='o', markersize=10, label=\"repo1 - Code Quality\")\n",
    "plt.plot(repo2['code_quality'], linewidth=3, marker='x', markersize=5, label=\"repo2 - Code Quality\")\n",
    "plt.plot(repo1['code_quality'], linewidth=3, marker='^', markersize=3, label=\"repo3 - Code Quality\")\n",
    "\n",
    "plt.legend(loc='best')"
   ]
  },
  {
   "cell_type": "code",
   "execution_count": null,
   "metadata": {
    "pycharm": {
     "name": "#%%\n"
    }
   },
   "outputs": [],
   "source": [
    "fig = plt.figure(figsize=(20, 10))\n",
    "\n",
    "plt.grid(True)\n",
    "\n",
    "plt.plot(repo1['testing_status'], linewidth=3, marker='o', markersize=10, label=\"repo1 - Testing Status\")\n",
    "plt.plot(repo2['testing_status'], linewidth=3, marker='x', markersize=5, label=\"repo2 - Testing Status\")\n",
    "plt.plot(repo3['testing_status'], linewidth=3, marker='^', markersize=3, label=\"repo3 - Testing Status\")\n",
    "\n",
    "plt.legend(loc='best')"
   ]
  },
  {
   "cell_type": "code",
   "execution_count": null,
   "metadata": {},
   "outputs": [],
   "source": [
    "repo1['Maintainability'] = repo1['code_quality'] * pc1\n",
    "repo1['Reliability'] = repo1['testing_status'] * pc2\n",
    "repo1['total'] = repo1['Maintainability'] + repo1['Reliability']\n",
    "\n",
    "repo2['Maintainability'] = repo2['code_quality'] * pc1\n",
    "repo2['Reliability'] = repo2['testing_status'] * pc2\n",
    "repo2['total'] = repo2['Maintainability'] + repo2['Reliability']\n",
    "\n",
    "repo3['Maintainability'] = repo3['code_quality'] * pc1\n",
    "repo3['Reliability'] = repo3['testing_status'] * pc2\n",
    "repo3['total'] = repo3['Maintainability'] + repo3['Reliability']\n"
   ]
  },
  {
   "cell_type": "code",
   "execution_count": null,
   "metadata": {},
   "outputs": [],
   "source": [
    "repo1"
   ]
  },
  {
   "cell_type": "code",
   "execution_count": null,
   "metadata": {
    "pycharm": {
     "name": "#%%\n"
    }
   },
   "outputs": [],
   "source": [
    "fig = plt.figure(figsize=(20, 10))\n",
    "\n",
    "plt.grid(True)\n",
    "\n",
    "plt.plot(repo1['Maintainability'], linewidth=3, marker='o', markersize=10, label='repo1 - Maintainability')\n",
    "plt.plot(repo1['Reliability'], linewidth=3, marker='*', markersize=5, label='repo1 - Reliability')\n",
    "plt.plot(repo1['total'], linewidth=3, marker='X', markersize=3, label='repo1 - total')\n",
    "\n",
    "plt.legend(loc='best')\n",
    "plt.ylim(0.1,1.1)"
   ]
  },
  {
   "cell_type": "code",
   "execution_count": null,
   "metadata": {
    "pycharm": {
     "name": "#%%\n"
    }
   },
   "outputs": [],
   "source": [
    "repo2"
   ]
  },
  {
   "cell_type": "code",
   "execution_count": null,
   "metadata": {
    "pycharm": {
     "name": "#%%\n"
    }
   },
   "outputs": [],
   "source": [
    "fig = plt.figure(figsize=(20, 10))\n",
    "\n",
    "plt.grid(True)\n",
    "\n",
    "plt.plot(repo2['Maintainability'], linewidth=3, marker='o', markersize=10, label='repo2 - Maintainability')\n",
    "plt.plot(repo2['Reliability'], linewidth=3, marker='*', markersize=5, label='repo2 - Reliability')\n",
    "plt.plot(repo2['total'], linewidth=3, marker='X', markersize=3, label='repo2 - total')\n",
    "\n",
    "plt.legend(loc='best')\n",
    "plt.ylim(0.1,1.1)"
   ]
  },
  {
   "cell_type": "code",
   "execution_count": null,
   "metadata": {},
   "outputs": [],
   "source": [
    "repo3"
   ]
  },
  {
   "cell_type": "code",
   "execution_count": null,
   "metadata": {},
   "outputs": [],
   "source": [
    "fig = plt.figure(figsize=(20, 10))\n",
    "\n",
    "plt.grid(True)\n",
    "\n",
    "plt.plot(repo3['Maintainability'], linewidth=3, marker='o', markersize=10, label='repo3 - Maintainability')\n",
    "plt.plot(repo3['Reliability'], linewidth=3, marker='*', markersize=5, label='repo3 - Reliability')\n",
    "plt.plot(repo3['total'], linewidth=3, marker='X', markersize=3, label='repo3 - total')\n",
    "\n",
    "plt.legend(loc='best')\n",
    "plt.ylim(0.1,1.1)"
   ]
  },
  {
   "cell_type": "markdown",
   "metadata": {},
   "source": [
    "### You must do the total plot and the statics analysis for the repository with more versions."
   ]
  },
  {
   "cell_type": "code",
   "execution_count": null,
   "metadata": {
    "pycharm": {
     "name": "#%%\n"
    }
   },
   "outputs": [],
   "source": [
    "# Building descriptive statistics dataframe. You must replace YourRepoName for your repository name with more product versions.\n",
    "\n",
    "metrics_df = pd.concat([repo1, repo2, repo3], ignore_index=True)\n",
    "\n",
    "more_versions_repo = metrics_df[metrics_df['repository'] == 'fga-eps-mds-2022-1-Capju-Interface']\n",
    "\n",
    "def get_characteristc_stats(repo_series):\n",
    "    return {\n",
    "        'mean': repo_series.mean(),\n",
    "        'mode': repo_series.mode(),\n",
    "        'median': repo_series.median(),\n",
    "        'std': repo_series.std(),\n",
    "        'var': repo_series.var(),\n",
    "        'min': repo_series.min(),\n",
    "        'max': repo_series.max()\n",
    "    }\n",
    "\n",
    "maintainability_stats = pd.DataFrame(get_characteristc_stats(more_versions_repo[\"Maintainability\"]),\n",
    "                                     columns=['mean', 'mode', 'median', 'std', 'var', 'min', 'max'])\n",
    "\n",
    "reliability_stats = pd.DataFrame(get_characteristc_stats(more_versions_repo[\"Reliability\"]),\n",
    "                                 columns=['mean', 'mode', 'median', 'std', 'var', 'min', 'max'])"
   ]
  },
  {
   "cell_type": "code",
   "execution_count": null,
   "metadata": {
    "pycharm": {
     "name": "#%%\n"
    }
   },
   "outputs": [],
   "source": [
    "print(maintainability_stats)"
   ]
  },
  {
   "cell_type": "code",
   "execution_count": null,
   "metadata": {
    "pycharm": {
     "name": "#%%\n"
    }
   },
   "outputs": [],
   "source": [
    "print(reliability_stats)"
   ]
  },
  {
   "cell_type": "markdown",
   "metadata": {},
   "source": [
    "### Plotting the aggregated quality characteristic indicator"
   ]
  },
  {
   "cell_type": "code",
   "execution_count": null,
   "metadata": {
    "pycharm": {
     "name": "#%%\n"
    }
   },
   "outputs": [],
   "source": [
    "plt.figure(figsize=(20, 10))\n",
    "\n",
    "plt.grid(True)\n",
    "\n",
    "# boxplot\n",
    "plt.boxplot([more_versions_repo['Maintainability'], more_versions_repo['Reliability']],\n",
    "labels=['Maintainability', 'Reliability'])"
   ]
  },
  {
   "cell_type": "markdown",
   "metadata": {},
   "source": [
    "### Plotting the aggregated repository quality indicator"
   ]
  },
  {
   "cell_type": "code",
   "execution_count": null,
   "metadata": {
    "pycharm": {
     "name": "#%%\n"
    }
   },
   "outputs": [],
   "source": [
    "plt.figure(figsize=(20,10))\n",
    "\n",
    "plt.grid(True)\n",
    "\n",
    "plt.plot(more_versions_repo['total'], linewidth=3, marker='o', markersize=5, label='More Versions repo - Total Quality')\n",
    "\n",
    "plt.legend(loc='best')\n",
    "plt.ylim(.1,1)"
   ]
  },
  {
   "cell_type": "markdown",
   "metadata": {},
   "source": []
  },
  {
   "cell_type": "code",
   "execution_count": null,
   "metadata": {},
   "outputs": [],
   "source": [
    "# DATE FORMAT: MM-DD-YYYY-HH:MM:SS\n",
    "currentDateTime = datetime.datetime.now().strftime(\"%m-%d-%Y-%H:%M:%S\")\n",
    "\n",
    "# metrics_df.to_excel('data/fga-eps-mds-2022-1-Capju-Interface-{}.xlsx'.format(currentDateTime), index = False)\n",
    "\n",
    "# metrics_df.to_csv('data/fga-eps-mds-2022-1-Capju-Interface-{}.csv'.format(currentDateTime), index = False)"
   ]
  },
  {
   "cell_type": "code",
   "execution_count": null,
   "metadata": {},
   "outputs": [],
   "source": [
    "# 1) Qual é o microsserviço de backend que apresenta o pior indicador de manutenibilidade e o que \n",
    "# foi feito por seu time para melhora-lo?\n",
    "\n",
    "# Após analisar os microsserviços de backend por meio de seus gráficos e uma média simples concluímos que o pior\n",
    "# microsserviço foi o User, entretanto, essa medida pode estar enviesada, pois só passamos a coletar dados do \n",
    "# microsserviço de Service muito tempo após já termos o microsserviço de Service criado.\n",
    "#\n",
    "# A medida tomada pelo nosso time foi observar as métricas relacionadas a Manutenibilidade, como Complexidade,\n",
    "# Duplicidade e Comentários, e a partir dessas conseguimos ter percepção da qualidade em relação a esse atributo.\n",
    "# A partir dessa percepção, aceitamos ou rejeitamos Pull Requests, no caso de rejeição sugerimos mudanças de código\n",
    "# visando a não degradação da qualidade quanto a esse aspecto."
   ]
  },
  {
   "cell_type": "code",
   "execution_count": null,
   "metadata": {},
   "outputs": [],
   "source": [
    "# 2) No microsserviço que apresentar o pior indicador de confiabilidade, mostre qual(is) o(s) \n",
    "# módulos/arquivos mais críticos e explique como seu time tratou esse problema.\n",
    "\n",
    "# Observando os gráficos e média simples dos repositórios de microsserviços, User e Service(antes de aceitar seu ultimo PR), concluímos que o \n",
    "# microsserviço com o pior indicador de Confiabilidade é o de User\n",
    "#\n",
    "# O arquivo mais crítico é o UserController.js por ter 45.5% de linhas cobertas por testes \n",
    "\n",
    "# Após observar as métricas relacionadas à Confiabilidade (Coverage) a medida que \n",
    "# tomamos foi a realização de treinamentos de teste com o objetivo de capacitar a equipe na implementação de\n",
    "# testes mais assertivos quanto possível."
   ]
  },
  {
   "cell_type": "code",
   "execution_count": 30,
   "metadata": {},
   "outputs": [],
   "source": [
    "# 3) Explique o comportamento da qualidade do produto, observada ao longo do tempo do \n",
    "# desenvolvimento do projeto relacionado ao seu time.\n",
    "\n",
    "# Após analise realizada a complexidade nos três repositórios  , à medida que o time foi adquirindo\n",
    "# conhecimento de parâmetros e modelos de refência de qualidade, pudemos ter uma noção de aspectos \n",
    "# mais quantitativos e palpaveis dentro do projeto do que somente aspectos qualitativos.\n",
    "\n",
    "# O serviço que mais apresentou mudanças na qualidade foi o de Interface porque\n",
    "# lidava com alterações de ambos os serviços e consequentemente disto teve mais releases,\n",
    "# mais métricas para analisar e consequentemente um maior foco na qualidade por ter mais \n",
    "# pedidos de revisão de Pull Request."
   ]
  }
 ],
 "metadata": {
  "kernelspec": {
   "display_name": "Python 3 (ipykernel)",
   "language": "python",
   "name": "python3"
  },
  "language_info": {
   "codemirror_mode": {
    "name": "ipython",
    "version": 3
   },
   "file_extension": ".py",
   "mimetype": "text/x-python",
   "name": "python",
   "nbconvert_exporter": "python",
   "pygments_lexer": "ipython3",
   "version": "3.10.7"
  }
 },
 "nbformat": 4,
 "nbformat_minor": 4
}
